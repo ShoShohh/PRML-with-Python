{
 "cells": [
  {
   "cell_type": "code",
   "execution_count": 40,
   "metadata": {},
   "outputs": [],
   "source": [
    "import numpy as np\n",
    "import matplotlib.pyplot as plt\n",
    "from scipy.stats import norm\n",
    "import pandas as pd"
   ]
  },
  {
   "cell_type": "code",
   "execution_count": 41,
   "metadata": {},
   "outputs": [],
   "source": [
    "# MLを導出するsimulationの回数．\n",
    "num_sim = 1000\n",
    "# MLを導出するための標本数であり，大きくすれば標本分散が母分散に対して近似される．小さいときは過小評価となる．\n",
    "num_x = [2, 3, 4, 5, 6, 7, 8, 9, 10, 50, 100, 1000, 10000]\n",
    "\n",
    "mean_value = 0\n",
    "std_value = 10\n",
    "\n",
    "mean_ML = np.zeros(num_sim)\n",
    "std_ML = np.zeros(num_sim)\n",
    "data = {'Sample size': [], 'almost E[mean_ML](1.57)': [], 'almost E[std_ML](1.58)': []}\n",
    "\n",
    "for i in num_x:\n",
    "    for j in range(num_sim):\n",
    "        x = np.random.normal(loc = mean_value, scale = std_value, size = i)\n",
    "        mean_ML[j] = np.mean(x)\n",
    "        std_ML[j] = np.sqrt(np.var(x, ddof = 0))\n",
    "    data['Sample size'].extend([i])\n",
    "    data['almost E[mean_ML](1.57)'].extend([np.mean(mean_ML)])\n",
    "    data['almost E[std_ML](1.58)'].extend([np.mean(std_ML)])"
   ]
  },
  {
   "cell_type": "code",
   "execution_count": 42,
   "metadata": {},
   "outputs": [
    {
     "name": "stdout",
     "output_type": "stream",
     "text": [
      "   population mean  population standard deviation\n",
      "0                0                             10\n",
      "    Sample size  almost E[mean_ML](1.57)  almost E[std_ML](1.58)\n",
      "0             2                -0.142552                5.570888\n",
      "1             3                -0.136689                7.217903\n",
      "2             4                 0.049655                8.064200\n",
      "3             5                -0.125223                8.347684\n",
      "4             6                -0.053318                8.665271\n",
      "5             7                 0.203131                8.830037\n",
      "6             8                 0.086415                9.051626\n",
      "7             9                -0.154372                9.105610\n",
      "8            10                -0.043526                9.271532\n",
      "9            50                -0.033676                9.873240\n",
      "10          100                -0.011548                9.947018\n",
      "11         1000                 0.001630               10.002873\n",
      "12        10000                 0.002808               10.002660\n"
     ]
    }
   ],
   "source": [
    "df1 = pd.DataFrame(data = {'population mean': [mean_value], 'population standard deviation': [std_value]})\n",
    "print(df1)\n",
    "\n",
    "df2 = pd.DataFrame(data)\n",
    "print(df2)"
   ]
  }
 ],
 "metadata": {
  "kernelspec": {
   "display_name": "Python 3",
   "language": "python",
   "name": "python3"
  },
  "language_info": {
   "codemirror_mode": {
    "name": "ipython",
    "version": 3
   },
   "file_extension": ".py",
   "mimetype": "text/x-python",
   "name": "python",
   "nbconvert_exporter": "python",
   "pygments_lexer": "ipython3",
   "version": "3.10.11"
  },
  "orig_nbformat": 4
 },
 "nbformat": 4,
 "nbformat_minor": 2
}
