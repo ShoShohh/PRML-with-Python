{
 "cells": [
  {
   "cell_type": "code",
   "execution_count": 94,
   "metadata": {},
   "outputs": [],
   "source": [
    "import numpy as np\n",
    "import matplotlib.pyplot as plt\n",
    "from scipy.stats import norm\n",
    "import pandas as pd"
   ]
  },
  {
   "cell_type": "code",
   "execution_count": 95,
   "metadata": {},
   "outputs": [],
   "source": [
    "# MLを導出するsimulationの回数であり，大きくすれば標本平均と標本分散が(1.57)，(1.58)へ近似される．\n",
    "num_sim = 100\n",
    "# MLを導出するための標本数であり，大きくすれば標本平均は母平均へ近似され，標本分散は母分散に対して過小評価される．\n",
    "num_x = [10, 100, 1000, 10000]\n",
    "\n",
    "mean_value = 0\n",
    "std_value = 10\n",
    "\n",
    "mean_ML = np.zeros(num_sim)\n",
    "std_ML = np.zeros(num_sim)\n",
    "data = {'Sample size': [], 'almost E[mean_ML](1.57)': [], 'almost E[std_ML](1.58)': []}\n",
    "\n",
    "for i in num_x:\n",
    "    for j in range(num_sim):\n",
    "        x = np.random.normal(loc = mean_value, scale = std_value, size = i)\n",
    "        mean_ML[j] = np.mean(x)\n",
    "        std_ML[j] = np.sqrt(np.var(x, ddof = 0))\n",
    "    data['Sample size'].extend([i])\n",
    "    data['almost E[mean_ML](1.57)'].extend([np.mean(mean_ML)])\n",
    "    data['almost E[std_ML](1.58)'].extend([np.var(std_ML, ddof = 0)])"
   ]
  },
  {
   "cell_type": "code",
   "execution_count": 96,
   "metadata": {},
   "outputs": [
    {
     "name": "stdout",
     "output_type": "stream",
     "text": [
      "   population mean  population standard deviation\n",
      "0                0                             10\n",
      "   Sample size  almost E[mean_ML](1.57)  almost E[std_ML](1.58)\n",
      "0           10                 0.929841                5.098493\n",
      "1          100                -0.035626                0.487010\n",
      "2         1000                -0.032885                0.050667\n",
      "3        10000                -0.018819                0.005873\n"
     ]
    }
   ],
   "source": [
    "df1 = pd.DataFrame(data = {'population mean': [mean_value], 'population standard deviation': [std_value]})\n",
    "print(df1)\n",
    "\n",
    "df2 = pd.DataFrame(data)\n",
    "print(df2)"
   ]
  }
 ],
 "metadata": {
  "kernelspec": {
   "display_name": "Python 3",
   "language": "python",
   "name": "python3"
  },
  "language_info": {
   "codemirror_mode": {
    "name": "ipython",
    "version": 3
   },
   "file_extension": ".py",
   "mimetype": "text/x-python",
   "name": "python",
   "nbconvert_exporter": "python",
   "pygments_lexer": "ipython3",
   "version": "3.10.11"
  },
  "orig_nbformat": 4
 },
 "nbformat": 4,
 "nbformat_minor": 2
}
