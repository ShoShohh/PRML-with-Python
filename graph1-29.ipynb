{
 "cells": [
  {
   "cell_type": "code",
   "execution_count": 1,
   "metadata": {},
   "outputs": [],
   "source": [
    "import numpy as np\n",
    "import matplotlib.pyplot as plt\n",
    "from matplotlib import animation"
   ]
  },
  {
   "cell_type": "code",
   "execution_count": 2,
   "metadata": {},
   "outputs": [
    {
     "name": "stderr",
     "output_type": "stream",
     "text": [
      "MovieWriter imagemagick unavailable; using Pillow instead.\n"
     ]
    }
   ],
   "source": [
    "# target t\n",
    "t = 0\n",
    "# estimand y(t)\n",
    "y = np.linspace(-1.5 + t, 1.5 + t, 100) \n",
    "# The range of the section below will be moved by q of |y - t|^q.\n",
    "range_q = np.linspace(0, 10, 100)\n",
    "\n",
    "fig, ax = plt.subplots()\n",
    "\n",
    "# include the entire animation frame\n",
    "ims = []\n",
    "for q in range_q:\n",
    "    im_abs = pow(np.abs(y - t), q)\n",
    "    # an animation frame\n",
    "    im = ax.plot(y, im_abs, color='b')\n",
    "    ims.append(im)\n",
    "\n",
    "ax.set_xlabel(\"$y-t$\", fontsize=15)\n",
    "ax.set_ylabel(\"$|y-t|^q$\", fontsize=15)\n",
    "ax.set_xlim([-1.5 + t, 1.5 + t])\n",
    "ax.set_ylim([0, 2]) \n",
    "\n",
    "anim = animation.ArtistAnimation(fig, ims)\n",
    "plt.close()\n",
    "# If you want to control the start and stop of the animation,\n",
    "# please uncomment the line below and comment out the last line.\n",
    "\n",
    "# anim\n",
    "anim.save('graph1-29.gif', writer='imagemagick')"
   ]
  }
 ],
 "metadata": {
  "kernelspec": {
   "display_name": "Python 3",
   "language": "python",
   "name": "python3"
  },
  "language_info": {
   "codemirror_mode": {
    "name": "ipython",
    "version": 3
   },
   "file_extension": ".py",
   "mimetype": "text/x-python",
   "name": "python",
   "nbconvert_exporter": "python",
   "pygments_lexer": "ipython3",
   "version": "3.10.11"
  },
  "orig_nbformat": 4
 },
 "nbformat": 4,
 "nbformat_minor": 2
}
